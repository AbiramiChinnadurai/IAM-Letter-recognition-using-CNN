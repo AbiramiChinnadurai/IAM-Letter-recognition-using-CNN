{
 "cells": [
  {
   "cell_type": "code",
   "execution_count": null,
   "metadata": {},
   "outputs": [],
   "source": [
    "import os\n",
    "import numpy as np\n",
    "import matplotlib.pyplot as plt\n",
    "from PIL import Image\n",
    "\n",
    "data_dir = '../data/raw/'\n",
    "\n",
    "def load_sample_images(data_dir, num_samples=5):\n",
    "    images = []\n",
    "    labels = []\n",
    "    for label in os.listdir(data_dir):\n",
    "        label_dir = os.path.join(data_dir, label)\n",
    "        if os.path.isdir(label_dir):\n",
    "            sample_images = os.listdir(label_dir)[:num_samples]\n",
    "            for img_name in sample_images:\n",
    "                img_path = os.path.join(label_dir, img_name)\n",
    "                images.append(Image.open(img_path))\n",
    "                labels.append(label)\n",
    "    return images, labels\n",
    "\n",
    "sample_images, sample_labels = load_sample_images(data_dir)\n",
    "\n",
    "plt.figure(figsize=(10, 10))\n",
    "for i in range(len(sample_images)):\n",
    "    plt.subplot(1, len(sample_images), i + 1)\n",
    "    plt.imshow(sample_images[i], cmap='gray')\n",
    "    plt.title(sample_labels[i])\n",
    "    plt.axis('off')\n",
    "plt.show()"
   ]
  },
  {
   "cell_type": "code",
   "execution_count": null,
   "metadata": {},
   "outputs": [],
   "source": [
    "def plot_data_distribution(data_dir):\n",
    "    labels_count = {}\n",
    "    for label in os.listdir(data_dir):\n",
    "        label_dir = os.path.join(data_dir, label)\n",
    "        if os.path.isdir(label_dir):\n",
    "            labels_count[label] = len(os.listdir(label_dir))\n",
    "    plt.figure(figsize=(12, 6))\n",
    "    plt.bar(labels_count.keys(), labels_count.values())\n",
    "    plt.xlabel('Letters')\n",
    "    plt.ylabel('Number of Samples')\n",
    "    plt.title('Data Distribution of Letters in IAM Dataset')\n",
    "    plt.xticks(rotation=90)\n",
    "    plt.show()\n",
    "\n",
    "plot_data_distribution(data_dir)"
   ]
  }
 ],
 "metadata": {
  "kernelspec": {
   "display_name": "Python 3",
   "language": "python",
   "name": "python3"
  },
  "language_info": {
   "codemirror_mode": {
    "name": "ipython",
    "version": 3
   },
   "file_extension": ".py",
   "mimetype": "text/x-python",
   "name": "python",
   "nbconvert_exporter": "python",
   "pygments_lexer": "ipython3",
   "version": "3.8.5"
  }
 },
 "nbformat": 4,
 "nbformat_minor": 4
}
